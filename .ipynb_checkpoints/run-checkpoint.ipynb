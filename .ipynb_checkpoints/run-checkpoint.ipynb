{
 "cells": [
  {
   "cell_type": "code",
   "execution_count": 1,
   "metadata": {
    "editable": true
   },
   "outputs": [],
   "source": [
    "import configparser\n",
    "from datetime import datetime\n",
    "import os\n",
    "from pyspark.sql import SparkSession\n",
    "from pyspark.sql.functions import udf, col\n",
    "from pyspark.sql.functions import year, month, dayofmonth, hour, weekofyear, date_format"
   ]
  },
  {
   "cell_type": "code",
   "execution_count": 2,
   "metadata": {
    "editable": true
   },
   "outputs": [],
   "source": [
    "config = configparser.ConfigParser()\n",
    "config.read('dl.cfg')\n",
    "\n",
    "os.environ['AWS_ACCESS_KEY_ID']=config['AWS']['AWS_ACCESS_KEY_ID']\n",
    "os.environ['AWS_SECRET_ACCESS_KEY']=config['AWS']['AWS_SECRET_ACCESS_KEY']\n",
    "input_data = config['DATALAKE']['INPUT_DATA']\n",
    "output_data = config['DATALAKE']['OUTPUT_DATA']\n"
   ]
  },
  {
   "cell_type": "code",
   "execution_count": 3,
   "metadata": {
    "editable": true
   },
   "outputs": [],
   "source": [
    "spark = SparkSession.builder.config(\"spark.jars.packages\", \"org.apache.hadoop:hadoop-aws:2.7.0\").getOrCreate()"
   ]
  },
  {
   "cell_type": "code",
   "execution_count": 4,
   "metadata": {
    "editable": true
   },
   "outputs": [
    {
     "name": "stdout",
     "output_type": "stream",
     "text": [
      "+------------------+---------------+---------------+----------------+-----------+---------+---------+------------------+--------------------+----+\n",
      "|         artist_id|artist_latitude|artist_location|artist_longitude|artist_name| duration|num_songs|           song_id|               title|year|\n",
      "+------------------+---------------+---------------+----------------+-----------+---------+---------+------------------+--------------------+----+\n",
      "|ARPFHN61187FB575F6|       41.88415|    Chicago, IL|       -87.63241|Lupe Fiasco|279.97995|        1|SOWQTQZ12A58A7B63E|Streets On Fire (...|   0|\n",
      "|AR1Y2PT1187FB5B9CE|       27.94017|        Brandon|       -82.32547|John Wesley|484.62322|        1|SOLLHMX12AB01846DC|   The Emperor Falls|   0|\n",
      "|AR7G5I41187FB4CE6C|           null|London, England|            null|   Adam Ant|233.40363|        1|SONHOTT12A8C13493C|     Something Girls|1982|\n",
      "+------------------+---------------+---------------+----------------+-----------+---------+---------+------------------+--------------------+----+\n",
      "only showing top 3 rows\n",
      "\n",
      "+------------------+--------------------+------------------+---------+\n",
      "|           song_id|               title|         artist_id| duration|\n",
      "+------------------+--------------------+------------------+---------+\n",
      "|SOWQTQZ12A58A7B63E|Streets On Fire (...|ARPFHN61187FB575F6|279.97995|\n",
      "|SOAOIBZ12AB01815BE|I Hold Your Hand ...|ARPBNLO1187FB3D52F| 43.36281|\n",
      "|SOIAZJW12AB01853F1|          Pink World|AR8ZCNI1187B9A069B|269.81832|\n",
      "+------------------+--------------------+------------------+---------+\n",
      "only showing top 3 rows\n",
      "\n",
      "+------------------+---------------+---------------+---------------+----------------+\n",
      "|         artist_id|    artist_name|artist_location|artist_latitude|artist_longitude|\n",
      "+------------------+---------------+---------------+---------------+----------------+\n",
      "|AR3JMC51187B9AE49D|Backstreet Boys|    Orlando, FL|       28.53823|       -81.37739|\n",
      "|AR0IAWL1187B9A96D0|   Danilo Perez|         Panama|         8.4177|       -80.11278|\n",
      "|ARWB3G61187FB49404|    Steve Morse| Hamilton, Ohio|           null|            null|\n",
      "+------------------+---------------+---------------+---------------+----------------+\n",
      "only showing top 3 rows\n",
      "\n"
     ]
    }
   ],
   "source": [
    "# song_data = os.path.join(input_data, 'song_data/*/*/*/*.json')\n",
    "dfSourceSong = spark.read.json('./data/song-data/*/*/*/*.json').drop_duplicates()\n",
    "dfSourceSong.show(3)\n",
    "dfDimSongs = dfSourceSong.select('song_id', 'title', 'artist_id', 'duration').drop_duplicates()\n",
    "dfDimSongs.show(3)\n",
    "dfDimArtists = dfSourceSong.select('artist_id', 'artist_name', 'artist_location', 'artist_latitude', 'artist_longitude').drop_duplicates()\n",
    "dfDimArtists.show(3)\n",
    "\n",
    "# dfDimUsers = dfSourceSong.select('user_id', 'first_name', 'last_name', 'gender', 'level').drop_duplicates()\n",
    "# dfDimUsers.show(3)"
   ]
  },
  {
   "cell_type": "code",
   "execution_count": 5,
   "metadata": {
    "editable": true
   },
   "outputs": [],
   "source": [
    "dfLog = spark.read.json('./data/log-data/*.json')\n",
    "dfLog = dfLog.filter(dfLog.page == \"NextSong\")\n"
   ]
  },
  {
   "cell_type": "code",
   "execution_count": 6,
   "metadata": {
    "editable": true
   },
   "outputs": [
    {
     "name": "stdout",
     "output_type": "stream",
     "text": [
      "+------+---------+--------+------+-----+\n",
      "|userId|firstName|lastName|gender|level|\n",
      "+------+---------+--------+------+-----+\n",
      "|    57|Katherine|     Gay|     F| free|\n",
      "|    84|  Shakira|    Hunt|     F| free|\n",
      "|    22|     Sean|  Wilson|     F| free|\n",
      "|    52| Theodore|   Smith|     M| free|\n",
      "|    80|    Tegan|  Levine|     F| paid|\n",
      "|    15|     Lily|    Koch|     F| paid|\n",
      "|    37|   Jordan|   Hicks|     F| free|\n",
      "|    98|   Jordyn|  Powell|     F| free|\n",
      "|    48|   Marina|  Sutton|     F| free|\n",
      "|    17| Makinley|   Jones|     F| free|\n",
      "+------+---------+--------+------+-----+\n",
      "only showing top 10 rows\n",
      "\n"
     ]
    }
   ],
   "source": [
    "dfDimUser = dfLog.select('userId', 'firstName', 'lastName', 'gender','level').drop_duplicates();\n",
    "dfDimUser.show(10)"
   ]
  },
  {
   "cell_type": "code",
   "execution_count": 7,
   "metadata": {
    "editable": true
   },
   "outputs": [
    {
     "name": "stdout",
     "output_type": "stream",
     "text": [
      "+-----------+---------+---------+------+-------------+--------+---------+-----+--------------------+------+--------+-----------------+---------+--------------------+------+-------------+--------------------+------+--------------------+\n",
      "|     artist|     auth|firstName|gender|itemInSession|lastName|   length|level|            location|method|    page|     registration|sessionId|                song|status|           ts|           userAgent|userId|           parsed_ts|\n",
      "+-----------+---------+---------+------+-------------+--------+---------+-----+--------------------+------+--------+-----------------+---------+--------------------+------+-------------+--------------------+------+--------------------+\n",
      "|   Harmonia|Logged In|     Ryan|     M|            0|   Smith|655.77751| free|San Jose-Sunnyval...|   PUT|NextSong|1.541016707796E12|      583|       Sehr kosmisch|   200|1542241826796|\"Mozilla/5.0 (X11...|    26|2018-11-15 00:30:...|\n",
      "|The Prodigy|Logged In|     Ryan|     M|            1|   Smith|260.07465| free|San Jose-Sunnyval...|   PUT|NextSong|1.541016707796E12|      583|     The Big Gundown|   200|1542242481796|\"Mozilla/5.0 (X11...|    26|2018-11-15 00:41:...|\n",
      "|      Train|Logged In|     Ryan|     M|            2|   Smith|205.45261| free|San Jose-Sunnyval...|   PUT|NextSong|1.541016707796E12|      583|            Marry Me|   200|1542242741796|\"Mozilla/5.0 (X11...|    26|2018-11-15 00:45:...|\n",
      "|Sony Wonder|Logged In|   Samuel|     M|            0|Gonzalez|218.06975| free|Houston-The Woodl...|   PUT|NextSong|1.540492941796E12|      597|           Blackbird|   200|1542253449796|\"Mozilla/5.0 (Mac...|    61|2018-11-15 03:44:...|\n",
      "|  Van Halen|Logged In|    Tegan|     F|            2|  Levine|289.38404| paid|Portland-South Po...|   PUT|NextSong|1.540794356796E12|      602|Best Of Both Worl...|   200|1542260935796|\"Mozilla/5.0 (Mac...|    80|2018-11-15 05:48:...|\n",
      "+-----------+---------+---------+------+-------------+--------+---------+-----+--------------------+------+--------+-----------------+---------+--------------------+------+-------------+--------------------+------+--------------------+\n",
      "only showing top 5 rows\n",
      "\n",
      "+-------------+----+---+----+-----+----+-------+\n",
      "|           ts|hour|day|week|month|year|weekday|\n",
      "+-------------+----+---+----+-----+----+-------+\n",
      "|1542795222796|  10| 21|  47|   11|2018|      4|\n",
      "|1542799276796|  11| 21|  47|   11|2018|      4|\n",
      "|1542195401796|  11| 14|  46|   11|2018|      4|\n",
      "+-------------+----+---+----+-----+----+-------+\n",
      "only showing top 3 rows\n",
      "\n"
     ]
    }
   ],
   "source": [
    "import pandas as pd\n",
    "from datetime import datetime\n",
    "from pyspark.sql.functions import udf\n",
    "from pyspark.sql.functions import year, month, dayofmonth, hour, weekofyear, date_format, dayofweek\n",
    "from pyspark.sql.types import *\n",
    "\n",
    "get_timestamp = udf(lambda x : datetime.utcfromtimestamp(int(x)/1000), TimestampType())\n",
    "dfLog = dfLog.withColumn(\"parsed_ts\", get_timestamp(\"ts\"))\n",
    "dfLog.show(5)\n",
    "dfDimTimeTable = dfLog.withColumn(\"hour\", hour(\"parsed_ts\"))\\\n",
    "            .withColumn(\"day\", dayofmonth(\"parsed_ts\"))\\\n",
    "            .withColumn(\"week\", weekofyear(\"parsed_ts\"))\\\n",
    "            .withColumn(\"month\", month(\"parsed_ts\"))\\\n",
    "            .withColumn(\"year\", year(\"parsed_ts\"))\\\n",
    "            .withColumn(\"weekday\", dayofweek(\"parsed_ts\"))\\\n",
    "            .select(\"ts\",\"hour\", \"day\", \"week\", \"month\", \"year\", \"weekday\").drop_duplicates()\n",
    "dfDimTimeTable.show(3)"
   ]
  },
  {
   "cell_type": "code",
   "execution_count": 8,
   "metadata": {
    "editable": true
   },
   "outputs": [
    {
     "name": "stdout",
     "output_type": "stream",
     "text": [
      "+-----------+-------------+-------+-----+------------------+------------------+----------+--------------------+--------------------+\n",
      "|songplay_id|           ts|user_id|level|           song_id|         artist_id|session_id|            location|          user_agent|\n",
      "+-----------+-------------+-------+-----+------------------+------------------+----------+--------------------+--------------------+\n",
      "|          0|1542837407796|     15| paid|SOZCTXZ12AB0182364|AR5KOSW1187FB35FF4|       818|Chicago-Napervill...|\"Mozilla/5.0 (X11...|\n",
      "|          1|1542171963796|     10| free|SOGDBUF12A8C140FAA|AR558FS1187FB45658|       484|Washington-Arling...|\"Mozilla/5.0 (Mac...|\n",
      "|          2|1542618860796|     24| paid|SOGDBUF12A8C140FAA|AR558FS1187FB45658|       672|Lake Havasu City-...|\"Mozilla/5.0 (Win...|\n",
      "|          3|1543358159796|     80| paid|SOGDBUF12A8C140FAA|AR558FS1187FB45658|       992|Portland-South Po...|\"Mozilla/5.0 (Mac...|\n",
      "+-----------+-------------+-------+-----+------------------+------------------+----------+--------------------+--------------------+\n",
      "\n",
      "+-----------+-------------+-------+------------------+------------------+--------------------+--------------------+----+---+----+-----+----+-------+\n",
      "|songplay_id|           ts|user_id|           song_id|         artist_id|            location|          user_agent|hour|day|week|month|year|weekday|\n",
      "+-----------+-------------+-------+------------------+------------------+--------------------+--------------------+----+---+----+-----+----+-------+\n",
      "|          0|1542837407796|     15|SOZCTXZ12AB0182364|AR5KOSW1187FB35FF4|Chicago-Napervill...|\"Mozilla/5.0 (X11...|  21| 21|  47|   11|2018|      4|\n",
      "|          1|1542171963796|     10|SOGDBUF12A8C140FAA|AR558FS1187FB45658|Washington-Arling...|\"Mozilla/5.0 (Mac...|   5| 14|  46|   11|2018|      4|\n",
      "|          2|1542618860796|     24|SOGDBUF12A8C140FAA|AR558FS1187FB45658|Lake Havasu City-...|\"Mozilla/5.0 (Win...|   9| 19|  47|   11|2018|      2|\n",
      "|          3|1543358159796|     80|SOGDBUF12A8C140FAA|AR558FS1187FB45658|Portland-South Po...|\"Mozilla/5.0 (Mac...|  22| 27|  48|   11|2018|      3|\n",
      "+-----------+-------------+-------+------------------+------------------+--------------------+--------------------+----+---+----+-----+----+-------+\n",
      "\n"
     ]
    }
   ],
   "source": [
    "from pyspark.sql.functions import monotonically_increasing_id\n",
    "#songplay_id, start_time, user_id, level, song_id, artist_id, session_id, location, user_agent\n",
    "# join songplay_id, song_id, artist_id\n",
    "dfFactSongPlays = dfLog.join(dfSourceSong, dfLog.song == dfSourceSong.title, how='inner')\\\n",
    "                    .select(monotonically_increasing_id().alias(\"songplay_id\"),col(\"ts\"),col(\"userId\").alias(\"user_id\"),\"level\",\"song_id\",\"artist_id\", col(\"sessionId\").alias(\"session_id\"), \"location\", col(\"userAgent\").alias(\"user_agent\"))\n",
    "dfFactSongPlays.show(5)\n",
    "\n",
    "#TODO: join hour|day|week|month|year|weekday\n",
    "dfFactSongPlays = dfFactSongPlays.join(dfDimTimeTable, dfFactSongPlays.ts == dfDimTimeTable.ts)\\\n",
    "                .select(\"songplay_id\", dfFactSongPlays.ts, \"user_id\", \"song_id\", \"artist_id\", \"location\", \"user_agent\", \"hour\", \"day\", \"week\", \"month\", \"year\", \"weekday\")\n",
    "dfFactSongPlays.show(10)"
   ]
  },
  {
   "cell_type": "code",
   "execution_count": 21,
   "metadata": {
    "editable": true
   },
   "outputs": [
    {
     "name": "stdout",
     "output_type": "stream",
     "text": [
      "+-----------+----------------+\n",
      "|artist_name|count(artist_id)|\n",
      "+-----------+----------------+\n",
      "|    40 Grit|               4|\n",
      "|      Elena|               2|\n",
      "+-----------+----------------+\n",
      "\n"
     ]
    }
   ],
   "source": [
    "dfFactSongPlays.createOrReplaceTempView(\"songs\")\n",
    "dfDimUser.createOrReplaceTempView(\"dim_user\")\n",
    "dfDimArtists.createOrReplaceTempView(\"dim_artist\")\n",
    "spark.sql(\"\"\"\n",
    "select a.artist_name, count(a.artist_id) from songs as s \n",
    "left join dim_user as u on s.user_id = u.userId \n",
    "left join dim_artist as a on s.artist_id = a.artist_id \n",
    "where u.gender = 'F'\n",
    "GROUP BY a.artist_name\n",
    "\"\"\").show(3)"
   ]
  },
  {
   "cell_type": "code",
   "execution_count": null,
   "metadata": {
    "editable": true
   },
   "outputs": [],
   "source": []
  }
 ],
 "metadata": {
  "kernelspec": {
   "display_name": "Python 3",
   "language": "python",
   "name": "python3"
  },
  "language_info": {
   "codemirror_mode": {
    "name": "ipython",
    "version": 3
   },
   "file_extension": ".py",
   "mimetype": "text/x-python",
   "name": "python",
   "nbconvert_exporter": "python",
   "pygments_lexer": "ipython3",
   "version": "3.6.3"
  }
 },
 "nbformat": 4,
 "nbformat_minor": 4
}
